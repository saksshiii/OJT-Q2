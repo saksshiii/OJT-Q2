{
 "cells": [
  {
   "cell_type": "code",
   "execution_count": 5,
   "id": "cf2a09db",
   "metadata": {},
   "outputs": [],
   "source": [
    "import numpy as np\n",
    "import sympy as sp"
   ]
  },
  {
   "cell_type": "markdown",
   "id": "8b0ac880",
   "metadata": {},
   "source": [
    "# Row Echelon form"
   ]
  },
  {
   "cell_type": "code",
   "execution_count": 6,
   "id": "784338f7",
   "metadata": {},
   "outputs": [
    {
     "data": {
      "text/latex": [
       "$\\displaystyle \\left[\\begin{matrix}0 & 0 & 1 & 4 & 6\\\\5 & 6 & 6 & 5 & 2\\\\7 & 4 & 3 & 6 & 4\\\\1 & 5 & 9 & 0 & 6\\\\3 & 2 & 9 & 3 & 3\\end{matrix}\\right]$"
      ],
      "text/plain": [
       "Matrix([\n",
       "[0, 0, 1, 4, 6],\n",
       "[5, 6, 6, 5, 2],\n",
       "[7, 4, 3, 6, 4],\n",
       "[1, 5, 9, 0, 6],\n",
       "[3, 2, 9, 3, 3]])"
      ]
     },
     "execution_count": 6,
     "metadata": {},
     "output_type": "execute_result"
    }
   ],
   "source": [
    "np.random.seed(50)\n",
    "A= np.random.randint(0,10,(5,5))\n",
    "sp.Matrix(A)"
   ]
  },
  {
   "cell_type": "code",
   "execution_count": 9,
   "id": "a8322c74",
   "metadata": {},
   "outputs": [
    {
     "name": "stdout",
     "output_type": "stream",
     "text": [
      "Matrix A in Row Echelon Form:\n",
      "[[1 0 0 0 0]\n",
      " [0 1 0 0 0]\n",
      " [0 0 1 0 0]\n",
      " [0 0 0 1 0]\n",
      " [0 0 0 0 1]]\n"
     ]
    }
   ],
   "source": [
    "def reduce_to_row_echelon_form(matrix):\n",
    "    rows, cols = matrix.shape\n",
    "    lead = 0\n",
    "    for r in range(rows):\n",
    "        if lead >= cols:\n",
    "            break\n",
    "        i = r\n",
    "        while matrix[i, lead] == 0:\n",
    "            i += 1\n",
    "            if i == rows:\n",
    "                i = r\n",
    "                lead += 1\n",
    "                if cols == lead:\n",
    "                    break\n",
    "        matrix[[i, r]] = matrix[[r, i]]\n",
    "        lv = matrix[r, lead]\n",
    "        matrix[r] = matrix[r] / lv\n",
    "        for i in range(rows):\n",
    "            if i != r:\n",
    "                lv = matrix[i, lead]\n",
    "                matrix[i] = matrix[i] - lv * matrix[r]\n",
    "        lead += 1\n",
    "\n",
    "reduce_to_row_echelon_form(A)\n",
    "print(\"Matrix A in Row Echelon Form:\")\n",
    "print(A)\n"
   ]
  },
  {
   "cell_type": "code",
   "execution_count": null,
   "id": "bf28be04",
   "metadata": {},
   "outputs": [],
   "source": []
  }
 ],
 "metadata": {
  "kernelspec": {
   "display_name": "Python 3",
   "language": "python",
   "name": "python3"
  },
  "language_info": {
   "codemirror_mode": {
    "name": "ipython",
    "version": 3
   },
   "file_extension": ".py",
   "mimetype": "text/x-python",
   "name": "python",
   "nbconvert_exporter": "python",
   "pygments_lexer": "ipython3",
   "version": "3.8.8"
  }
 },
 "nbformat": 4,
 "nbformat_minor": 5
}
